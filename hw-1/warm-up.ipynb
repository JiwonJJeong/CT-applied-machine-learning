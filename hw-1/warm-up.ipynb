{
 "cells": [
  {
   "cell_type": "code",
   "execution_count": 29,
   "id": "5d9fa053-a77f-4db9-b286-3eec5ad260d2",
   "metadata": {},
   "outputs": [
    {
     "name": "stdout",
     "output_type": "stream",
     "text": [
      "The autoreload extension is already loaded. To reload it, use:\n",
      "  %reload_ext autoreload\n",
      "(2, 4)\n"
     ]
    }
   ],
   "source": [
    "import warm_up\n",
    "warm_up.q1()"
   ]
  },
  {
   "cell_type": "code",
   "execution_count": 11,
   "id": "ac23e368-65d2-4081-bfe6-61327d713200",
   "metadata": {},
   "outputs": [
    {
     "name": "stdout",
     "output_type": "stream",
     "text": [
      "tensor([ 6,  9, 13, 15])\n",
      "tensor([ 5, 18, 40, 54])\n",
      "tensor([       1,      729,   390625, 10077696])\n",
      "tensor(117)\n",
      "tensor(1235.4036)\n"
     ]
    }
   ],
   "source": [
    "warm_up.q2()"
   ]
  },
  {
   "cell_type": "code",
   "execution_count": 14,
   "id": "1efe898f-90e0-4396-a0ae-feadfaa4e38d",
   "metadata": {},
   "outputs": [
    {
     "ename": "AttributeError",
     "evalue": "module 'torch' has no attribute 'grad'",
     "output_type": "error",
     "traceback": [
      "\u001b[31m---------------------------------------------------------------------------\u001b[39m",
      "\u001b[31mAttributeError\u001b[39m                            Traceback (most recent call last)",
      "\u001b[36mCell\u001b[39m\u001b[36m \u001b[39m\u001b[32mIn[14]\u001b[39m\u001b[32m, line 1\u001b[39m\n\u001b[32m----> \u001b[39m\u001b[32m1\u001b[39m \u001b[43mwarm_up\u001b[49m\u001b[43m.\u001b[49m\u001b[43mq3_a\u001b[49m\u001b[43m(\u001b[49m\u001b[43m)\u001b[49m\n",
      "\u001b[36mFile \u001b[39m\u001b[32m~/cornell-tech/CT-applied-machine-learning/hw-1/warm_up.py:49\u001b[39m, in \u001b[36mq3_a\u001b[39m\u001b[34m()\u001b[39m\n\u001b[32m     47\u001b[39m g = torch.dot(torch.exp(\u001b[38;5;28minput\u001b[39m) * \u001b[38;5;28minput\u001b[39m * \u001b[38;5;28minput\u001b[39m, torch.tensor([\u001b[32m1.\u001b[39m,\u001b[32m3.\u001b[39m,\u001b[32m5.\u001b[39m,\u001b[32m6.\u001b[39m]))\n\u001b[32m     48\u001b[39m torch.autograd.backward(g)\n\u001b[32m---> \u001b[39m\u001b[32m49\u001b[39m gradient = \u001b[43mtorch\u001b[49m\u001b[43m.\u001b[49m\u001b[43mgrad\u001b[49m()\n\u001b[32m     50\u001b[39m \u001b[38;5;28mprint\u001b[39m(gradient)\n",
      "\u001b[36mFile \u001b[39m\u001b[32m~/cornell-tech/CT-applied-machine-learning/venv/lib/python3.12/site-packages/torch/__init__.py:2745\u001b[39m, in \u001b[36m__getattr__\u001b[39m\u001b[34m(name)\u001b[39m\n\u001b[32m   2742\u001b[39m \u001b[38;5;28;01mif\u001b[39;00m name \u001b[38;5;129;01min\u001b[39;00m _lazy_modules:\n\u001b[32m   2743\u001b[39m     \u001b[38;5;28;01mreturn\u001b[39;00m importlib.import_module(\u001b[33mf\u001b[39m\u001b[33m\"\u001b[39m\u001b[33m.\u001b[39m\u001b[38;5;132;01m{\u001b[39;00mname\u001b[38;5;132;01m}\u001b[39;00m\u001b[33m\"\u001b[39m, \u001b[34m__name__\u001b[39m)\n\u001b[32m-> \u001b[39m\u001b[32m2745\u001b[39m \u001b[38;5;28;01mraise\u001b[39;00m \u001b[38;5;167;01mAttributeError\u001b[39;00m(\u001b[33mf\u001b[39m\u001b[33m\"\u001b[39m\u001b[33mmodule \u001b[39m\u001b[33m'\u001b[39m\u001b[38;5;132;01m{\u001b[39;00m\u001b[34m__name__\u001b[39m\u001b[38;5;132;01m}\u001b[39;00m\u001b[33m'\u001b[39m\u001b[33m has no attribute \u001b[39m\u001b[33m'\u001b[39m\u001b[38;5;132;01m{\u001b[39;00mname\u001b[38;5;132;01m}\u001b[39;00m\u001b[33m'\u001b[39m\u001b[33m\"\u001b[39m)\n",
      "\u001b[31mAttributeError\u001b[39m: module 'torch' has no attribute 'grad'"
     ]
    }
   ],
   "source": [
    "warm_up.q3_a()"
   ]
  },
  {
   "cell_type": "code",
   "execution_count": 32,
   "id": "c2365242-eb66-45f2-960a-72a3b9cb3ddd",
   "metadata": {},
   "outputs": [
    {
     "ename": "TypeError",
     "evalue": "tensor() takes 1 positional argument but 2 were given",
     "output_type": "error",
     "traceback": [
      "\u001b[31m---------------------------------------------------------------------------\u001b[39m",
      "\u001b[31mTypeError\u001b[39m                                 Traceback (most recent call last)",
      "\u001b[36mCell\u001b[39m\u001b[36m \u001b[39m\u001b[32mIn[32]\u001b[39m\u001b[32m, line 1\u001b[39m\n\u001b[32m----> \u001b[39m\u001b[32m1\u001b[39m \u001b[43mwarm_up\u001b[49m\u001b[43m.\u001b[49m\u001b[43mq3_b\u001b[49m\u001b[43m(\u001b[49m\u001b[43m)\u001b[49m\n",
      "\u001b[36mFile \u001b[39m\u001b[32m~/cornell-tech/CT-applied-machine-learning/hw-1/warm_up.py:61\u001b[39m, in \u001b[36mq3_b\u001b[39m\u001b[34m()\u001b[39m\n\u001b[32m     60\u001b[39m \u001b[38;5;28;01mdef\u001b[39;00m\u001b[38;5;250m \u001b[39m\u001b[34mq3_b\u001b[39m():\n\u001b[32m---> \u001b[39m\u001b[32m61\u001b[39m     a = \u001b[43mtorch\u001b[49m\u001b[43m.\u001b[49m\u001b[43mtensor\u001b[49m\u001b[43m(\u001b[49m\u001b[43m[\u001b[49m\u001b[32;43m4\u001b[39;49m\u001b[43m,\u001b[49m\u001b[32;43m3\u001b[39;49m\u001b[43m]\u001b[49m\u001b[43m,\u001b[49m\u001b[43m[\u001b[49m\u001b[32;43m7\u001b[39;49m\u001b[43m,\u001b[49m\u001b[32;43m9\u001b[39;49m\u001b[43m]\u001b[49m\u001b[43m)\u001b[49m\n\u001b[32m     62\u001b[39m     b = torch.tensor([\u001b[32m3\u001b[39m,\u001b[32m5\u001b[39m],[\u001b[32m1\u001b[39m,\u001b[32m11\u001b[39m])\n\u001b[32m     63\u001b[39m     \u001b[38;5;66;03m# matrix multiplication ABC = (AB)C\u001b[39;00m\n",
      "\u001b[31mTypeError\u001b[39m: tensor() takes 1 positional argument but 2 were given"
     ]
    }
   ],
   "source": [
    "warm_up.q3_b()"
   ]
  },
  {
   "cell_type": "code",
   "execution_count": 15,
   "id": "deb290cc-d858-44ad-930e-e0b717927574",
   "metadata": {},
   "outputs": [
    {
     "ename": "TypeError",
     "evalue": "expected np.ndarray (got Tensor)",
     "output_type": "error",
     "traceback": [
      "\u001b[31m---------------------------------------------------------------------------\u001b[39m",
      "\u001b[31mTypeError\u001b[39m                                 Traceback (most recent call last)",
      "\u001b[36mCell\u001b[39m\u001b[36m \u001b[39m\u001b[32mIn[15]\u001b[39m\u001b[32m, line 1\u001b[39m\n\u001b[32m----> \u001b[39m\u001b[32m1\u001b[39m \u001b[43mwarm_up\u001b[49m\u001b[43m.\u001b[49m\u001b[43mq4\u001b[49m\u001b[43m(\u001b[49m\u001b[43m)\u001b[49m\n",
      "\u001b[36mFile \u001b[39m\u001b[32m~/cornell-tech/CT-applied-machine-learning/hw-1/warm_up.py:86\u001b[39m, in \u001b[36mq4\u001b[39m\u001b[34m()\u001b[39m\n\u001b[32m     84\u001b[39m a = torch.tensor([\u001b[32m1\u001b[39m,\u001b[32m2\u001b[39m,\u001b[32m3\u001b[39m])\n\u001b[32m     85\u001b[39m b = a.numpy()\n\u001b[32m---> \u001b[39m\u001b[32m86\u001b[39m a = \u001b[43mtorch\u001b[49m\u001b[43m.\u001b[49m\u001b[43mfrom_numpy\u001b[49m\u001b[43m(\u001b[49m\u001b[43ma\u001b[49m\u001b[43m)\u001b[49m.float()\n",
      "\u001b[31mTypeError\u001b[39m: expected np.ndarray (got Tensor)"
     ]
    }
   ],
   "source": [
    "warm_up.q4()"
   ]
  },
  {
   "cell_type": "code",
   "execution_count": 16,
   "id": "f0059cfc-806f-42eb-a35c-0949863c0f2e",
   "metadata": {},
   "outputs": [
    {
     "ename": "TypeError",
     "evalue": "Field elements must be 2- or 3-tuples, got '2'",
     "output_type": "error",
     "traceback": [
      "\u001b[31m---------------------------------------------------------------------------\u001b[39m",
      "\u001b[31mTypeError\u001b[39m                                 Traceback (most recent call last)",
      "\u001b[36mCell\u001b[39m\u001b[36m \u001b[39m\u001b[32mIn[16]\u001b[39m\u001b[32m, line 1\u001b[39m\n\u001b[32m----> \u001b[39m\u001b[32m1\u001b[39m \u001b[43mwarm_up\u001b[49m\u001b[43m.\u001b[49m\u001b[43mq5_a\u001b[49m\u001b[43m(\u001b[49m\u001b[43m)\u001b[49m\n",
      "\u001b[36mFile \u001b[39m\u001b[32m~/cornell-tech/CT-applied-machine-learning/hw-1/warm_up.py:91\u001b[39m, in \u001b[36mq5_a\u001b[39m\u001b[34m()\u001b[39m\n\u001b[32m     90\u001b[39m \u001b[38;5;28;01mdef\u001b[39;00m\u001b[38;5;250m \u001b[39m\u001b[34mq5_a\u001b[39m():\n\u001b[32m---> \u001b[39m\u001b[32m91\u001b[39m     a = \u001b[43mnp\u001b[49m\u001b[43m.\u001b[49m\u001b[43marray\u001b[49m\u001b[43m(\u001b[49m\u001b[43m[\u001b[49m\u001b[32;43m1\u001b[39;49m\u001b[43m,\u001b[49m\u001b[32;43m3\u001b[39;49m\u001b[43m,\u001b[49m\u001b[32;43m5\u001b[39;49m\u001b[43m]\u001b[49m\u001b[43m,\u001b[49m\u001b[43m[\u001b[49m\u001b[32;43m2\u001b[39;49m\u001b[43m,\u001b[49m\u001b[32;43m1\u001b[39;49m\u001b[43m,\u001b[49m\u001b[32;43m5\u001b[39;49m\u001b[43m]\u001b[49m\u001b[43m)\u001b[49m\n\u001b[32m     92\u001b[39m     b = np.array([\u001b[32m8\u001b[39m,\u001b[32m4\u001b[39m],[\u001b[32m3\u001b[39m,\u001b[32m6\u001b[39m],[\u001b[32m2\u001b[39m,\u001b[32m7\u001b[39m])\n\u001b[32m     93\u001b[39m     \u001b[38;5;28mprint\u001b[39m(np.matmul(a,b))\n",
      "\u001b[31mTypeError\u001b[39m: Field elements must be 2- or 3-tuples, got '2'"
     ]
    }
   ],
   "source": [
    "warm_up.q5_a()"
   ]
  },
  {
   "cell_type": "code",
   "execution_count": 17,
   "id": "d6c8dc83-5b07-4495-b6c1-26669d769194",
   "metadata": {},
   "outputs": [
    {
     "ename": "AttributeError",
     "evalue": "module 'numpy' has no attribute 'norm'",
     "output_type": "error",
     "traceback": [
      "\u001b[31m---------------------------------------------------------------------------\u001b[39m",
      "\u001b[31mAttributeError\u001b[39m                            Traceback (most recent call last)",
      "\u001b[36mCell\u001b[39m\u001b[36m \u001b[39m\u001b[32mIn[17]\u001b[39m\u001b[32m, line 1\u001b[39m\n\u001b[32m----> \u001b[39m\u001b[32m1\u001b[39m \u001b[43mwarm_up\u001b[49m\u001b[43m.\u001b[49m\u001b[43mq5_b\u001b[49m\u001b[43m(\u001b[49m\u001b[43m)\u001b[49m\n",
      "\u001b[36mFile \u001b[39m\u001b[32m~/cornell-tech/CT-applied-machine-learning/hw-1/warm_up.py:98\u001b[39m, in \u001b[36mq5_b\u001b[39m\u001b[34m()\u001b[39m\n\u001b[32m     96\u001b[39m \u001b[38;5;28;01mdef\u001b[39;00m\u001b[38;5;250m \u001b[39m\u001b[34mq5_b\u001b[39m():\n\u001b[32m     97\u001b[39m     a = np.array([\u001b[32m100\u001b[39m,\u001b[32m2\u001b[39m,\u001b[32m1\u001b[39m])\n\u001b[32m---> \u001b[39m\u001b[32m98\u001b[39m     \u001b[38;5;28mprint\u001b[39m(\u001b[43mnp\u001b[49m\u001b[43m.\u001b[49m\u001b[43mnorm\u001b[49m(a))\n",
      "\u001b[36mFile \u001b[39m\u001b[32m~/cornell-tech/CT-applied-machine-learning/venv/lib/python3.12/site-packages/numpy/__init__.py:795\u001b[39m, in \u001b[36m__getattr__\u001b[39m\u001b[34m(attr)\u001b[39m\n\u001b[32m    792\u001b[39m     \u001b[38;5;28;01mimport\u001b[39;00m\u001b[38;5;250m \u001b[39m\u001b[34;01mnumpy\u001b[39;00m\u001b[34;01m.\u001b[39;00m\u001b[34;01mchar\u001b[39;00m\u001b[38;5;250m \u001b[39m\u001b[38;5;28;01mas\u001b[39;00m\u001b[38;5;250m \u001b[39m\u001b[34;01mchar\u001b[39;00m\n\u001b[32m    793\u001b[39m     \u001b[38;5;28;01mreturn\u001b[39;00m char.chararray\n\u001b[32m--> \u001b[39m\u001b[32m795\u001b[39m \u001b[38;5;28;01mraise\u001b[39;00m \u001b[38;5;167;01mAttributeError\u001b[39;00m(\u001b[33mf\u001b[39m\u001b[33m\"\u001b[39m\u001b[33mmodule \u001b[39m\u001b[38;5;132;01m{\u001b[39;00m\u001b[34m__name__\u001b[39m\u001b[38;5;132;01m!r}\u001b[39;00m\u001b[33m has no attribute \u001b[39m\u001b[38;5;132;01m{\u001b[39;00mattr\u001b[38;5;132;01m!r}\u001b[39;00m\u001b[33m\"\u001b[39m)\n",
      "\u001b[31mAttributeError\u001b[39m: module 'numpy' has no attribute 'norm'"
     ]
    }
   ],
   "source": [
    "warm_up.q5_b()"
   ]
  },
  {
   "cell_type": "code",
   "execution_count": null,
   "id": "f84477d9-7012-4710-8057-3e3dbafd9518",
   "metadata": {},
   "outputs": [],
   "source": []
  }
 ],
 "metadata": {
  "kernelspec": {
   "display_name": "Python 3 (ipykernel)",
   "language": "python",
   "name": "python3"
  },
  "language_info": {
   "codemirror_mode": {
    "name": "ipython",
    "version": 3
   },
   "file_extension": ".py",
   "mimetype": "text/x-python",
   "name": "python",
   "nbconvert_exporter": "python",
   "pygments_lexer": "ipython3",
   "version": "3.12.3"
  }
 },
 "nbformat": 4,
 "nbformat_minor": 5
}
