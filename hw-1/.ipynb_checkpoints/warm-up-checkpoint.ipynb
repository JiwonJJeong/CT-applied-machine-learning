{
 "cells": [
  {
   "cell_type": "code",
   "execution_count": 1,
   "id": "5d9fa053-a77f-4db9-b286-3eec5ad260d2",
   "metadata": {},
   "outputs": [
    {
     "name": "stdout",
     "output_type": "stream",
     "text": [
      "(2, 4)\n"
     ]
    }
   ],
   "source": [
    "import warm_up\n",
    "warm_up.q1()"
   ]
  },
  {
   "cell_type": "code",
   "execution_count": 2,
   "id": "ac23e368-65d2-4081-bfe6-61327d713200",
   "metadata": {},
   "outputs": [
    {
     "name": "stdout",
     "output_type": "stream",
     "text": [
      "tensor([ 6,  9, 13, 15])\n",
      "tensor([ 5, 18, 40, 54])\n",
      "tensor([       1,      729,   390625, 10077696])\n",
      "tensor(117)\n",
      "tensor(1235.4036)\n"
     ]
    }
   ],
   "source": [
    "warm_up.q2()"
   ]
  },
  {
   "cell_type": "code",
   "execution_count": 3,
   "id": "1efe898f-90e0-4396-a0ae-feadfaa4e38d",
   "metadata": {},
   "outputs": [
    {
     "name": "stdout",
     "output_type": "stream",
     "text": [
      "tensor([   5194.4609,   58093.7500, 1192383.2500, 4813232.0000])\n"
     ]
    }
   ],
   "source": [
    "warm_up.q3_a()"
   ]
  },
  {
   "cell_type": "code",
   "execution_count": 4,
   "id": "c2365242-eb66-45f2-960a-72a3b9cb3ddd",
   "metadata": {},
   "outputs": [
    {
     "name": "stdout",
     "output_type": "stream",
     "text": [
      "tensor([[0.0869, 0.1427],\n",
      "        [0.1918, 0.3202]])\n"
     ]
    }
   ],
   "source": [
    "warm_up.q3_b()"
   ]
  },
  {
   "cell_type": "code",
   "execution_count": 5,
   "id": "5ea763b4-2756-4928-b018-d2ed9b479df3",
   "metadata": {},
   "outputs": [
    {
     "name": "stdout",
     "output_type": "stream",
     "text": [
      "tensor([9.8661e-03, 3.2187e-06])\n"
     ]
    }
   ],
   "source": [
    "warm_up.q3_c()"
   ]
  },
  {
   "cell_type": "code",
   "execution_count": 6,
   "id": "deb290cc-d858-44ad-930e-e0b717927574",
   "metadata": {},
   "outputs": [],
   "source": [
    "warm_up.q4()"
   ]
  },
  {
   "cell_type": "code",
   "execution_count": 7,
   "id": "f0059cfc-806f-42eb-a35c-0949863c0f2e",
   "metadata": {},
   "outputs": [
    {
     "name": "stdout",
     "output_type": "stream",
     "text": [
      "[[27 57]\n",
      " [29 49]]\n"
     ]
    }
   ],
   "source": [
    "warm_up.q5_a()"
   ]
  },
  {
   "cell_type": "code",
   "execution_count": 8,
   "id": "d6c8dc83-5b07-4495-b6c1-26669d769194",
   "metadata": {},
   "outputs": [
    {
     "name": "stdout",
     "output_type": "stream",
     "text": [
      "100.024996875781\n"
     ]
    }
   ],
   "source": [
    "warm_up.q5_b()"
   ]
  },
  {
   "cell_type": "code",
   "execution_count": null,
   "id": "f84477d9-7012-4710-8057-3e3dbafd9518",
   "metadata": {},
   "outputs": [],
   "source": []
  }
 ],
 "metadata": {
  "kernelspec": {
   "display_name": "Python 3 (ipykernel)",
   "language": "python",
   "name": "python3"
  },
  "language_info": {
   "codemirror_mode": {
    "name": "ipython",
    "version": 3
   },
   "file_extension": ".py",
   "mimetype": "text/x-python",
   "name": "python",
   "nbconvert_exporter": "python",
   "pygments_lexer": "ipython3",
   "version": "3.12.3"
  }
 },
 "nbformat": 4,
 "nbformat_minor": 5
}
