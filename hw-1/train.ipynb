{
 "cells": [
  {
   "cell_type": "code",
   "execution_count": 1,
   "id": "032b7af2-b772-4bca-acab-02feb79f0661",
   "metadata": {},
   "outputs": [],
   "source": [
    "# Training and testing notebook"
   ]
  },
  {
   "cell_type": "code",
   "execution_count": 2,
   "id": "3a95b3f6-ad29-4d4b-89ff-255d4244d40e",
   "metadata": {},
   "outputs": [],
   "source": [
    "# Section 1: Imports"
   ]
  },
  {
   "cell_type": "code",
   "execution_count": 6,
   "id": "c89bcfb2-0db8-41c0-98a5-eadd3f651468",
   "metadata": {},
   "outputs": [],
   "source": [
    "from sklearn.linear_model import LinearRegression\n",
    "import numpy as np\n",
    "import pandas as pd\n",
    "\n",
    "data_10 = pd.read_csv(\"./preprocessing/preprocessed_10.csv\")\n",
    "data_20 = pd.read_csv(\"./preprocessing/preprocessed_20.csv\")\n",
    "data_30 = pd.read_csv(\"./preprocessing/preprocessed_30.csv\")\n",
    "data_40 = pd.read_csv(\"./preprocessing/preprocessed_40.csv\")\n",
    "data_50 = pd.read_csv(\"./preprocessing/preprocessed_50.csv\")\n",
    "prices = pd.read_csv('./preprocessing/preprocessed_y.csv')"
   ]
  },
  {
   "cell_type": "code",
   "execution_count": 25,
   "id": "768ed920-dd90-4e28-b2fa-d55534ce3ba7",
   "metadata": {},
   "outputs": [
    {
     "name": "stdout",
     "output_type": "stream",
     "text": [
      "# Features in data_10 10\n",
      "# Features in data_20 20\n",
      "# Features in data_30 29\n",
      "# Features in data_40 39\n",
      "# Features in data_50 47\n"
     ]
    }
   ],
   "source": [
    "# Explicitly look at how many features in each feature set\n",
    "# This is important because I removed some features from the 50\n",
    "print('# Features in data_10', data_10.shape[1])\n",
    "print('# Features in data_20', data_20.shape[1])\n",
    "print('# Features in data_30', data_30.shape[1])\n",
    "print('# Features in data_40', data_40.shape[1])\n",
    "print('# Features in data_50', data_50.shape[1])"
   ]
  },
  {
   "cell_type": "code",
   "execution_count": null,
   "id": "dfb84e1c-f8f1-416b-a032-28bd2b0dcca9",
   "metadata": {},
   "outputs": [],
   "source": [
    "# Section 2: Apply Ordinary Least Squares to generate parameters"
   ]
  },
  {
   "cell_type": "code",
   "execution_count": 10,
   "id": "68f7e22c-cfdf-4937-8165-20e57e6d9d6b",
   "metadata": {},
   "outputs": [
    {
     "name": "stdout",
     "output_type": "stream",
     "text": [
      "Coefficients: [[ 0.19077055  0.11884217  0.30133188  0.00180849  0.14941121  0.03168348\n",
      "   0.03679254  0.09163487  0.01471771 -0.00435912]]\n",
      "Intercept: [-0.0909598]\n"
     ]
    }
   ],
   "source": [
    "# Test for one feature set\n",
    "from sklearn.linear_model import LinearRegression\n",
    "import numpy as np\n",
    "\n",
    "model_10 = LinearRegression()\n",
    "model_10.fit(data_10, prices)\n",
    "\n",
    "print(\"Coefficients:\", model_10.coef_)\n",
    "print(\"Intercept:\", model_10.intercept_)"
   ]
  },
  {
   "cell_type": "code",
   "execution_count": 26,
   "id": "b967c856-29fd-4a6f-97cc-6bb4664235e8",
   "metadata": {},
   "outputs": [
    {
     "name": "stdout",
     "output_type": "stream",
     "text": [
      "Coefficients of 40 [[ 1.30728144e-01  1.01718771e-01  5.83973891e-02  1.87417870e-02\n",
      "   1.25472807e-01  7.07646416e-03  6.66638643e-02  2.27974771e-01\n",
      "   9.16936527e-03 -2.19800823e-02 -1.70541913e-02  2.66766192e-03\n",
      "   4.39398117e-04 -1.89966988e-02  1.15335441e-02 -2.39476496e-02\n",
      "   8.72289701e-02  5.12849662e-03 -2.34933766e-02  5.67694189e-03\n",
      "   6.02233667e-03  3.66284466e-02  1.14075547e-02  1.26453911e-01\n",
      "   6.26451932e-03 -2.06342504e-03  4.83706796e-04  6.24320172e-03\n",
      "   3.26361746e-03  4.66896169e-02 -3.05416371e-02  1.52700596e-04\n",
      "   8.03040031e-02  4.37108680e-03  9.95264119e-03  2.51613579e-02\n",
      "   1.27501472e-04  4.54006248e-03  1.38641866e-03]]\n"
     ]
    }
   ],
   "source": [
    "# Repeat for all feature sets\n",
    "\n",
    "remaining_sets = {20: data_20, 30: data_30, 40: data_40, 50: data_50}\n",
    "\n",
    "models = {}\n",
    "models[10] = model_10\n",
    "\n",
    "for k, data in remaining_sets.items():\n",
    "    model = LinearRegression()\n",
    "    model.fit(data, prices)\n",
    "    models[k] = model\n",
    "\n",
    "print(\"Coefficients of 40\", models[40].coef_)\n"
   ]
  },
  {
   "cell_type": "code",
   "execution_count": null,
   "id": "89f91e55-c2be-46de-a05d-fa8ae11ace32",
   "metadata": {},
   "outputs": [],
   "source": [
    "# Section 3: Predict on testing data"
   ]
  }
 ],
 "metadata": {
  "kernelspec": {
   "display_name": "Python 3 (ipykernel)",
   "language": "python",
   "name": "python3"
  },
  "language_info": {
   "codemirror_mode": {
    "name": "ipython",
    "version": 3
   },
   "file_extension": ".py",
   "mimetype": "text/x-python",
   "name": "python",
   "nbconvert_exporter": "python",
   "pygments_lexer": "ipython3",
   "version": "3.12.3"
  }
 },
 "nbformat": 4,
 "nbformat_minor": 5
}
