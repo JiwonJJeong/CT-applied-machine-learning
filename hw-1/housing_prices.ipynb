{
 "cells": [
  {
   "cell_type": "code",
   "execution_count": 1,
   "id": "116a0765-fe5b-4a53-a3d7-ef5957825465",
   "metadata": {},
   "outputs": [],
   "source": [
    "import housing_prices.py\n",
    "# Visualizing 3 continuous features\n",
    "# First floor square feet\n"
   ]
  },
  {
   "cell_type": "code",
   "execution_count": null,
   "id": "cb451a3c-727d-43be-b1c9-0a2e645448aa",
   "metadata": {},
   "outputs": [],
   "source": []
  }
 ],
 "metadata": {
  "kernelspec": {
   "display_name": "Python 3 (ipykernel)",
   "language": "python",
   "name": "python3"
  },
  "language_info": {
   "codemirror_mode": {
    "name": "ipython",
    "version": 3
   },
   "file_extension": ".py",
   "mimetype": "text/x-python",
   "name": "python",
   "nbconvert_exporter": "python",
   "pygments_lexer": "ipython3",
   "version": "3.12.3"
  }
 },
 "nbformat": 4,
 "nbformat_minor": 5
}
